{
 "cells": [
  {
   "cell_type": "markdown",
   "metadata": {},
   "source": [
    "# ALPHA CRONBACH TEST"
   ]
  },
  {
   "cell_type": "code",
   "execution_count": 6,
   "metadata": {},
   "outputs": [],
   "source": [
    "mydata<-read.csv('data.csv')"
   ]
  },
  {
   "cell_type": "code",
   "execution_count": 7,
   "metadata": {},
   "outputs": [
    {
     "data": {
      "text/html": [
       "<table>\n",
       "<thead><tr><th scope=col>X</th><th scope=col>Q1</th><th scope=col>Q2</th><th scope=col>Q3</th><th scope=col>Q4</th><th scope=col>Q5</th><th scope=col>Q6</th><th scope=col>Q7</th><th scope=col>Q8</th></tr></thead>\n",
       "<tbody>\n",
       "\t<tr><td>responden 1</td><td>4          </td><td>3          </td><td>1          </td><td>4          </td><td>1          </td><td>4          </td><td>0          </td><td>4          </td></tr>\n",
       "\t<tr><td>responden 2</td><td>4          </td><td>3          </td><td>3          </td><td>3          </td><td>2          </td><td>1          </td><td>1          </td><td>4          </td></tr>\n",
       "\t<tr><td>responden 3</td><td>4          </td><td>3          </td><td>4          </td><td>4          </td><td>2          </td><td>3          </td><td>2          </td><td>3          </td></tr>\n",
       "\t<tr><td>responden 4</td><td>4          </td><td>3          </td><td>3          </td><td>4          </td><td>1          </td><td>3          </td><td>2          </td><td>3          </td></tr>\n",
       "\t<tr><td>responden 5</td><td>3          </td><td>1          </td><td>1          </td><td>3          </td><td>3          </td><td>3          </td><td>2          </td><td>4          </td></tr>\n",
       "\t<tr><td>responden 6</td><td>3          </td><td>2          </td><td>1          </td><td>4          </td><td>3          </td><td>3          </td><td>1          </td><td>3          </td></tr>\n",
       "</tbody>\n",
       "</table>\n"
      ],
      "text/latex": [
       "\\begin{tabular}{r|lllllllll}\n",
       " X & Q1 & Q2 & Q3 & Q4 & Q5 & Q6 & Q7 & Q8\\\\\n",
       "\\hline\n",
       "\t responden 1 & 4           & 3           & 1           & 4           & 1           & 4           & 0           & 4          \\\\\n",
       "\t responden 2 & 4           & 3           & 3           & 3           & 2           & 1           & 1           & 4          \\\\\n",
       "\t responden 3 & 4           & 3           & 4           & 4           & 2           & 3           & 2           & 3          \\\\\n",
       "\t responden 4 & 4           & 3           & 3           & 4           & 1           & 3           & 2           & 3          \\\\\n",
       "\t responden 5 & 3           & 1           & 1           & 3           & 3           & 3           & 2           & 4          \\\\\n",
       "\t responden 6 & 3           & 2           & 1           & 4           & 3           & 3           & 1           & 3          \\\\\n",
       "\\end{tabular}\n"
      ],
      "text/markdown": [
       "\n",
       "| X | Q1 | Q2 | Q3 | Q4 | Q5 | Q6 | Q7 | Q8 |\n",
       "|---|---|---|---|---|---|---|---|---|\n",
       "| responden 1 | 4           | 3           | 1           | 4           | 1           | 4           | 0           | 4           |\n",
       "| responden 2 | 4           | 3           | 3           | 3           | 2           | 1           | 1           | 4           |\n",
       "| responden 3 | 4           | 3           | 4           | 4           | 2           | 3           | 2           | 3           |\n",
       "| responden 4 | 4           | 3           | 3           | 4           | 1           | 3           | 2           | 3           |\n",
       "| responden 5 | 3           | 1           | 1           | 3           | 3           | 3           | 2           | 4           |\n",
       "| responden 6 | 3           | 2           | 1           | 4           | 3           | 3           | 1           | 3           |\n",
       "\n"
      ],
      "text/plain": [
       "  X           Q1 Q2 Q3 Q4 Q5 Q6 Q7 Q8\n",
       "1 responden 1 4  3  1  4  1  4  0  4 \n",
       "2 responden 2 4  3  3  3  2  1  1  4 \n",
       "3 responden 3 4  3  4  4  2  3  2  3 \n",
       "4 responden 4 4  3  3  4  1  3  2  3 \n",
       "5 responden 5 3  1  1  3  3  3  2  4 \n",
       "6 responden 6 3  2  1  4  3  3  1  3 "
      ]
     },
     "metadata": {},
     "output_type": "display_data"
    }
   ],
   "source": [
    "head(mydata)"
   ]
  },
  {
   "cell_type": "code",
   "execution_count": 9,
   "metadata": {},
   "outputs": [],
   "source": [
    "library('psych')"
   ]
  },
  {
   "cell_type": "code",
   "execution_count": 10,
   "metadata": {},
   "outputs": [
    {
     "name": "stderr",
     "output_type": "stream",
     "text": [
      "Warning message in var(if (is.vector(x) || is.factor(x)) x else as.double(x), na.rm = na.rm):\n",
      "\"NAs introduced by coercion\"Warning message in alpha(mydata):\n",
      "\"Item = X had no variance and was deleted\"Warning message in alpha(mydata):\n",
      "\"Some items were negatively correlated with the total scale and probably \n",
      "should be reversed.  \n",
      "To do this, run the function again with the 'check.keys=TRUE' option\""
     ]
    },
    {
     "name": "stdout",
     "output_type": "stream",
     "text": [
      "Some items ( Q7 ) were negatively correlated with the total scale and \n",
      "probably should be reversed.  \n",
      "To do this, run the function again with the 'check.keys=TRUE' option"
     ]
    },
    {
     "data": {
      "text/plain": [
       "\n",
       "Reliability analysis   \n",
       "Call: alpha(x = mydata)\n",
       "\n",
       "  raw_alpha std.alpha G6(smc) average_r  S/N   ase mean   sd median_r\n",
       "      0.47      0.49    0.51      0.11 0.97 0.035  2.7 0.39      0.1\n",
       "\n",
       " lower alpha upper     95% confidence boundaries\n",
       "0.4 0.47 0.54 \n",
       "\n",
       " Reliability if an item is dropped:\n",
       "   raw_alpha std.alpha G6(smc) average_r  S/N alpha se  var.r med.r\n",
       "Q1      0.40      0.40    0.42     0.087 0.67    0.040 0.0183 0.091\n",
       "Q2      0.39      0.43    0.44     0.097 0.75    0.041 0.0192 0.103\n",
       "Q3      0.37      0.41    0.42     0.091 0.70    0.043 0.0190 0.091\n",
       "Q4      0.42      0.43    0.44     0.097 0.75    0.038 0.0194 0.101\n",
       "Q5      0.46      0.48    0.50     0.118 0.94    0.036 0.0235 0.165\n",
       "Q6      0.44      0.46    0.46     0.107 0.84    0.037 0.0153 0.091\n",
       "Q7      0.56      0.58    0.57     0.167 1.40    0.030 0.0081 0.165\n",
       "Q8      0.41      0.43    0.46     0.098 0.76    0.039 0.0229 0.091\n",
       "\n",
       " Item statistics \n",
       "     n raw.r std.r r.cor r.drop mean   sd\n",
       "Q1 500  0.52  0.59  0.51   0.36  3.4 0.59\n",
       "Q2 500  0.57  0.53  0.43   0.31  2.6 0.95\n",
       "Q3 500  0.63  0.56  0.49   0.34  2.3 1.11\n",
       "Q4 500  0.46  0.53  0.43   0.28  3.6 0.63\n",
       "Q5 500  0.44  0.41  0.21   0.15  2.4 0.93\n",
       "Q6 500  0.42  0.47  0.36   0.19  3.2 0.76\n",
       "Q7 500  0.16  0.14 -0.16  -0.12  1.3 0.87\n",
       "Q8 500  0.51  0.53  0.40   0.27  2.8 0.81\n",
       "\n",
       "Non missing response frequency for each item\n",
       "      0    1    2    3    4 miss\n",
       "Q1 0.00 0.00 0.05 0.51 0.44    0\n",
       "Q2 0.01 0.18 0.18 0.52 0.12    0\n",
       "Q3 0.02 0.33 0.17 0.35 0.13    0\n",
       "Q4 0.00 0.01 0.04 0.33 0.62    0\n",
       "Q5 0.01 0.18 0.33 0.37 0.11    0\n",
       "Q6 0.00 0.03 0.10 0.47 0.39    0\n",
       "Q7 0.14 0.56 0.20 0.08 0.02    0\n",
       "Q8 0.00 0.05 0.31 0.45 0.19    0"
      ]
     },
     "metadata": {},
     "output_type": "display_data"
    },
    {
     "name": "stdout",
     "output_type": "stream",
     "text": [
      "[1] \"Q1 = Desain grafis diminati karena membantu penyampaian informasi masa sekarang\"\n",
      "[1] \"Q2 = Apakah kalian tahu bahwa web design merupakan kategori dari design grafis\"\n",
      "[1] \"Q3 = Apakah kalian mengetahui tentang tipografi\"\n",
      "[1] \"Q4 = Pewarnaan berperan penting dalam pembuatan sebuah karya\"\n",
      "[1] \"Q5 = Membuat desain grafis membutuhkan biaya yang besar\"\n",
      "[1] \"Q6 = Waktu pembuatan dan tahapan pembuatan mempengaruhi harga suatu desain grafis\"\n",
      "[1] \"Q7 = Banyak orang kurang mengerti isi pesan yang terkandung dalam karya desain grafis\"\n",
      "[1] \"Q8 = Sebuah desain grafis dapat disimpan dan dilihat dalam format .pdf\"\n"
     ]
    }
   ],
   "source": [
    "alpha(mydata)\n",
    "print('Q1 = Desain grafis diminati karena membantu penyampaian informasi masa sekarang')\n",
    "print('Q2 = Apakah kalian tahu bahwa web design merupakan kategori dari design grafis')\n",
    "print('Q3 = Apakah kalian mengetahui tentang tipografi')\n",
    "print('Q4 = Pewarnaan berperan penting dalam pembuatan sebuah karya')\n",
    "print('Q5 = Membuat desain grafis membutuhkan biaya yang besar')\n",
    "print('Q6 = Waktu pembuatan dan tahapan pembuatan mempengaruhi harga suatu desain grafis')\n",
    "print('Q7 = Banyak orang kurang mengerti isi pesan yang terkandung dalam karya desain grafis')\n",
    "print('Q8 = Sebuah desain grafis dapat disimpan dan dilihat dalam format .pdf')"
   ]
  },
  {
   "cell_type": "markdown",
   "metadata": {},
   "source": [
    "# T-TEST"
   ]
  },
  {
   "cell_type": "code",
   "execution_count": 11,
   "metadata": {},
   "outputs": [],
   "source": [
    "Q1=read.delim(\"clipboard\")"
   ]
  },
  {
   "cell_type": "code",
   "execution_count": 12,
   "metadata": {},
   "outputs": [
    {
     "data": {
      "text/plain": [
       "\n",
       "\tOne Sample t-test\n",
       "\n",
       "data:  Q1\n",
       "t = -174.66, df = 499, p-value < 2.2e-16\n",
       "alternative hypothesis: true mean is less than 8\n",
       "95 percent confidence interval:\n",
       "     -Inf 3.427552\n",
       "sample estimates:\n",
       "mean of x \n",
       "    3.384 \n"
      ]
     },
     "metadata": {},
     "output_type": "display_data"
    },
    {
     "name": "stdout",
     "output_type": "stream",
     "text": [
      "[1] \"Q1 = Desain grafis diminati karena membantu penyampaian informasi masa sekarang\"\n"
     ]
    }
   ],
   "source": [
    "t.test(Q1, mu=8, alternative='less', conf.level=0.95)\n",
    "print('Q1 = Desain grafis diminati karena membantu penyampaian informasi masa sekarang')"
   ]
  },
  {
   "cell_type": "code",
   "execution_count": 13,
   "metadata": {},
   "outputs": [],
   "source": [
    "Q2=read.delim(\"clipboard\")"
   ]
  },
  {
   "cell_type": "code",
   "execution_count": 14,
   "metadata": {},
   "outputs": [
    {
     "data": {
      "text/plain": [
       "\n",
       "\tOne Sample t-test\n",
       "\n",
       "data:  Q2\n",
       "t = -128.21, df = 499, p-value < 2.2e-16\n",
       "alternative hypothesis: true mean is less than 8\n",
       "95 percent confidence interval:\n",
       "     -Inf 2.629923\n",
       "sample estimates:\n",
       "mean of x \n",
       "     2.56 \n"
      ]
     },
     "metadata": {},
     "output_type": "display_data"
    },
    {
     "name": "stdout",
     "output_type": "stream",
     "text": [
      "[1] \"Q2 = Apakah kalian tahu bahwa web design merupakan kategori dari design grafis\"\n"
     ]
    }
   ],
   "source": [
    "t.test(Q2, mu=8, alternative='less', conf.level=0.95)\n",
    "print('Q2 = Apakah kalian tahu bahwa web design merupakan kategori dari design grafis')"
   ]
  },
  {
   "cell_type": "code",
   "execution_count": 15,
   "metadata": {},
   "outputs": [],
   "source": [
    "Q3=read.delim(\"clipboard\")"
   ]
  },
  {
   "cell_type": "code",
   "execution_count": 16,
   "metadata": {},
   "outputs": [
    {
     "data": {
      "text/plain": [
       "\n",
       "\tOne Sample t-test\n",
       "\n",
       "data:  Q3\n",
       "t = -115.96, df = 499, p-value < 2.2e-16\n",
       "alternative hypothesis: true mean is less than 8\n",
       "95 percent confidence interval:\n",
       "     -Inf 2.339597\n",
       "sample estimates:\n",
       "mean of x \n",
       "    2.258 \n"
      ]
     },
     "metadata": {},
     "output_type": "display_data"
    },
    {
     "name": "stdout",
     "output_type": "stream",
     "text": [
      "[1] \"Q3 = Apakah kalian mengetahui tentang tipografi\"\n"
     ]
    }
   ],
   "source": [
    "t.test(Q3, mu=8, alternative='less', conf.level=0.95)\n",
    "print('Q3 = Apakah kalian mengetahui tentang tipografi')"
   ]
  },
  {
   "cell_type": "code",
   "execution_count": 17,
   "metadata": {},
   "outputs": [],
   "source": [
    "Q4=read.delim(\"clipboard\")"
   ]
  },
  {
   "cell_type": "code",
   "execution_count": 18,
   "metadata": {},
   "outputs": [
    {
     "data": {
      "text/plain": [
       "\n",
       "\tOne Sample t-test\n",
       "\n",
       "data:  Q4\n",
       "t = -158.76, df = 499, p-value < 2.2e-16\n",
       "alternative hypothesis: true mean is less than 8\n",
       "95 percent confidence interval:\n",
       "     -Inf 3.604107\n",
       "sample estimates:\n",
       "mean of x \n",
       "    3.558 \n"
      ]
     },
     "metadata": {},
     "output_type": "display_data"
    },
    {
     "name": "stdout",
     "output_type": "stream",
     "text": [
      "[1] \"Q4 = Pewarnaan berperan penting dalam pembuatan sebuah karya\"\n"
     ]
    }
   ],
   "source": [
    "t.test(Q4, mu=8, alternative='less', conf.level=0.95)\n",
    "print('Q4 = Pewarnaan berperan penting dalam pembuatan sebuah karya')"
   ]
  },
  {
   "cell_type": "code",
   "execution_count": 19,
   "metadata": {},
   "outputs": [],
   "source": [
    "Q5=read.delim(\"clipboard\")"
   ]
  },
  {
   "cell_type": "code",
   "execution_count": 20,
   "metadata": {},
   "outputs": [
    {
     "data": {
      "text/plain": [
       "\n",
       "\tOne Sample t-test\n",
       "\n",
       "data:  Q5\n",
       "t = -134.74, df = 499, p-value < 2.2e-16\n",
       "alternative hypothesis: true mean is less than 8\n",
       "95 percent confidence interval:\n",
       "     -Inf 2.472443\n",
       "sample estimates:\n",
       "mean of x \n",
       "    2.404 \n"
      ]
     },
     "metadata": {},
     "output_type": "display_data"
    },
    {
     "name": "stdout",
     "output_type": "stream",
     "text": [
      "[1] \"Q5 = Membuat desain grafis membutuhkan biaya yang besar\"\n"
     ]
    }
   ],
   "source": [
    "t.test(Q5, mu=8, alternative='less', conf.level=0.95)\n",
    "print('Q5 = Membuat desain grafis membutuhkan biaya yang besar')"
   ]
  },
  {
   "cell_type": "code",
   "execution_count": 21,
   "metadata": {},
   "outputs": [],
   "source": [
    "Q6=read.delim(\"clipboard\")"
   ]
  },
  {
   "cell_type": "code",
   "execution_count": 22,
   "metadata": {},
   "outputs": [
    {
     "data": {
      "text/plain": [
       "\n",
       "\tOne Sample t-test\n",
       "\n",
       "data:  Q6\n",
       "t = -139.97, df = 499, p-value < 2.2e-16\n",
       "alternative hypothesis: true mean is less than 8\n",
       "95 percent confidence interval:\n",
       "     -Inf 3.284183\n",
       "sample estimates:\n",
       "mean of x \n",
       "    3.228 \n"
      ]
     },
     "metadata": {},
     "output_type": "display_data"
    },
    {
     "name": "stdout",
     "output_type": "stream",
     "text": [
      "[1] \"Q6 = Waktu pembuatan dan tahapan pembuatan mempengaruhi harga suatu desain grafis\"\n"
     ]
    }
   ],
   "source": [
    "t.test(Q6, mu=8, alternative='less', conf.level=0.95)\n",
    "print('Q6 = Waktu pembuatan dan tahapan pembuatan mempengaruhi harga suatu desain grafis')"
   ]
  },
  {
   "cell_type": "code",
   "execution_count": 23,
   "metadata": {},
   "outputs": [],
   "source": [
    "Q7=read.delim(\"clipboard\")"
   ]
  },
  {
   "cell_type": "code",
   "execution_count": 24,
   "metadata": {},
   "outputs": [
    {
     "data": {
      "text/plain": [
       "\n",
       "\tOne Sample t-test\n",
       "\n",
       "data:  Q7\n",
       "t = -173.08, df = 499, p-value < 2.2e-16\n",
       "alternative hypothesis: true mean is less than 8\n",
       "95 percent confidence interval:\n",
       "     -Inf 1.347945\n",
       "sample estimates:\n",
       "mean of x \n",
       "    1.284 \n"
      ]
     },
     "metadata": {},
     "output_type": "display_data"
    },
    {
     "name": "stdout",
     "output_type": "stream",
     "text": [
      "[1] \"Q7 = Banyak orang kurang mengerti isi pesan yang terkandung dalam karya desain grafis\"\n"
     ]
    }
   ],
   "source": [
    "t.test(Q7, mu=8, alternative='less', conf.level=0.95)\n",
    "print('Q7 = Banyak orang kurang mengerti isi pesan yang terkandung dalam karya desain grafis')"
   ]
  },
  {
   "cell_type": "code",
   "execution_count": 25,
   "metadata": {},
   "outputs": [],
   "source": [
    "Q8=read.delim(\"clipboard\")"
   ]
  },
  {
   "cell_type": "code",
   "execution_count": 26,
   "metadata": {},
   "outputs": [
    {
     "data": {
      "text/plain": [
       "\n",
       "\tOne Sample t-test\n",
       "\n",
       "data:  Q8\n",
       "t = -143.64, df = 499, p-value < 2.2e-16\n",
       "alternative hypothesis: true mean is less than 8\n",
       "95 percent confidence interval:\n",
       "     -Inf 2.841862\n",
       "sample estimates:\n",
       "mean of x \n",
       "    2.782 \n"
      ]
     },
     "metadata": {},
     "output_type": "display_data"
    },
    {
     "name": "stdout",
     "output_type": "stream",
     "text": [
      "[1] \"Q8 = Sebuah desain grafis dapat disimpan dan dilihat dalam format .pdf\"\n"
     ]
    }
   ],
   "source": [
    "t.test(Q8, mu=8, alternative='less', conf.level=0.95)\n",
    "print('Q8 = Sebuah desain grafis dapat disimpan dan dilihat dalam format .pdf')"
   ]
  },
  {
   "cell_type": "markdown",
   "metadata": {},
   "source": [
    "# PRINCIPAL COMPONENT ANALYSIS"
   ]
  },
  {
   "cell_type": "code",
   "execution_count": 27,
   "metadata": {},
   "outputs": [],
   "source": [
    "mydata<-read.csv('data.csv')"
   ]
  },
  {
   "cell_type": "code",
   "execution_count": 28,
   "metadata": {},
   "outputs": [
    {
     "data": {
      "text/html": [
       "<table>\n",
       "<thead><tr><th scope=col>X</th><th scope=col>Q1</th><th scope=col>Q2</th><th scope=col>Q3</th><th scope=col>Q4</th><th scope=col>Q5</th><th scope=col>Q6</th><th scope=col>Q7</th><th scope=col>Q8</th></tr></thead>\n",
       "<tbody>\n",
       "\t<tr><td>responden 1 </td><td>4           </td><td>3           </td><td>1           </td><td>4           </td><td>1           </td><td>4           </td><td>0           </td><td>4           </td></tr>\n",
       "\t<tr><td>responden 2 </td><td>4           </td><td>3           </td><td>3           </td><td>3           </td><td>2           </td><td>1           </td><td>1           </td><td>4           </td></tr>\n",
       "\t<tr><td>responden 3 </td><td>4           </td><td>3           </td><td>4           </td><td>4           </td><td>2           </td><td>3           </td><td>2           </td><td>3           </td></tr>\n",
       "\t<tr><td>responden 4 </td><td>4           </td><td>3           </td><td>3           </td><td>4           </td><td>1           </td><td>3           </td><td>2           </td><td>3           </td></tr>\n",
       "\t<tr><td>responden 5 </td><td>3           </td><td>1           </td><td>1           </td><td>3           </td><td>3           </td><td>3           </td><td>2           </td><td>4           </td></tr>\n",
       "\t<tr><td>responden 6 </td><td>3           </td><td>2           </td><td>1           </td><td>4           </td><td>3           </td><td>3           </td><td>1           </td><td>3           </td></tr>\n",
       "\t<tr><td>responden 7 </td><td>3           </td><td>3           </td><td>1           </td><td>3           </td><td>2           </td><td>2           </td><td>3           </td><td>3           </td></tr>\n",
       "\t<tr><td>responden 8 </td><td>3           </td><td>3           </td><td>1           </td><td>4           </td><td>2           </td><td>4           </td><td>1           </td><td>2           </td></tr>\n",
       "\t<tr><td>responden 9 </td><td>4           </td><td>3           </td><td>1           </td><td>4           </td><td>2           </td><td>3           </td><td>1           </td><td>3           </td></tr>\n",
       "\t<tr><td>responden 10</td><td>4           </td><td>3           </td><td>1           </td><td>3           </td><td>3           </td><td>3           </td><td>3           </td><td>4           </td></tr>\n",
       "\t<tr><td>responden 11</td><td>4           </td><td>3           </td><td>3           </td><td>4           </td><td>1           </td><td>4           </td><td>1           </td><td>2           </td></tr>\n",
       "\t<tr><td>responden 12</td><td>2           </td><td>3           </td><td>2           </td><td>3           </td><td>1           </td><td>3           </td><td>2           </td><td>3           </td></tr>\n",
       "\t<tr><td>responden 13</td><td>4           </td><td>4           </td><td>4           </td><td>3           </td><td>4           </td><td>4           </td><td>0           </td><td>4           </td></tr>\n",
       "\t<tr><td>responden 14</td><td>4           </td><td>3           </td><td>2           </td><td>4           </td><td>2           </td><td>3           </td><td>1           </td><td>2           </td></tr>\n",
       "\t<tr><td>responden 15</td><td>3           </td><td>3           </td><td>2           </td><td>3           </td><td>2           </td><td>3           </td><td>1           </td><td>2           </td></tr>\n",
       "\t<tr><td>responden 16</td><td>3           </td><td>1           </td><td>2           </td><td>4           </td><td>2           </td><td>3           </td><td>1           </td><td>2           </td></tr>\n",
       "\t<tr><td>responden 17</td><td>3           </td><td>3           </td><td>1           </td><td>3           </td><td>2           </td><td>3           </td><td>1           </td><td>2           </td></tr>\n",
       "\t<tr><td>responden 18</td><td>3           </td><td>1           </td><td>1           </td><td>4           </td><td>1           </td><td>3           </td><td>1           </td><td>4           </td></tr>\n",
       "\t<tr><td>responden 19</td><td>3           </td><td>3           </td><td>1           </td><td>4           </td><td>3           </td><td>3           </td><td>1           </td><td>3           </td></tr>\n",
       "\t<tr><td>responden 20</td><td>3           </td><td>3           </td><td>3           </td><td>4           </td><td>1           </td><td>3           </td><td>0           </td><td>3           </td></tr>\n",
       "\t<tr><td>responden 21</td><td>3           </td><td>1           </td><td>1           </td><td>3           </td><td>1           </td><td>4           </td><td>1           </td><td>2           </td></tr>\n",
       "\t<tr><td>responden 22</td><td>3           </td><td>3           </td><td>3           </td><td>3           </td><td>4           </td><td>4           </td><td>1           </td><td>3           </td></tr>\n",
       "\t<tr><td>responden 23</td><td>3           </td><td>3           </td><td>1           </td><td>4           </td><td>2           </td><td>3           </td><td>1           </td><td>2           </td></tr>\n",
       "\t<tr><td>responden 24</td><td>4           </td><td>3           </td><td>1           </td><td>4           </td><td>2           </td><td>4           </td><td>1           </td><td>2           </td></tr>\n",
       "\t<tr><td>responden 25</td><td>3           </td><td>3           </td><td>2           </td><td>4           </td><td>2           </td><td>3           </td><td>1           </td><td>3           </td></tr>\n",
       "\t<tr><td>responden 26</td><td>4           </td><td>3           </td><td>3           </td><td>4           </td><td>1           </td><td>3           </td><td>1           </td><td>3           </td></tr>\n",
       "\t<tr><td>responden 27</td><td>4           </td><td>3           </td><td>3           </td><td>2           </td><td>2           </td><td>3           </td><td>1           </td><td>3           </td></tr>\n",
       "\t<tr><td>responden 28</td><td>4           </td><td>3           </td><td>3           </td><td>4           </td><td>3           </td><td>4           </td><td>2           </td><td>2           </td></tr>\n",
       "\t<tr><td>responden 29</td><td>2           </td><td>4           </td><td>3           </td><td>3           </td><td>3           </td><td>4           </td><td>2           </td><td>3           </td></tr>\n",
       "\t<tr><td>responden 30</td><td>3           </td><td>3           </td><td>1           </td><td>3           </td><td>2           </td><td>4           </td><td>1           </td><td>2           </td></tr>\n",
       "\t<tr><td>...</td><td>...</td><td>...</td><td>...</td><td>...</td><td>...</td><td>...</td><td>...</td><td>...</td></tr>\n",
       "\t<tr><td>responden 471</td><td>3            </td><td>3            </td><td>3            </td><td>4            </td><td>2            </td><td>3            </td><td>2            </td><td>3            </td></tr>\n",
       "\t<tr><td>responden 472</td><td>4            </td><td>2            </td><td>2            </td><td>3            </td><td>2            </td><td>4            </td><td>0            </td><td>3            </td></tr>\n",
       "\t<tr><td>responden 473</td><td>3            </td><td>3            </td><td>2            </td><td>4            </td><td>2            </td><td>2            </td><td>1            </td><td>2            </td></tr>\n",
       "\t<tr><td>responden 474</td><td>4            </td><td>3            </td><td>4            </td><td>4            </td><td>4            </td><td>4            </td><td>1            </td><td>3            </td></tr>\n",
       "\t<tr><td>responden 475</td><td>3            </td><td>3            </td><td>3            </td><td>4            </td><td>2            </td><td>4            </td><td>1            </td><td>2            </td></tr>\n",
       "\t<tr><td>responden 476</td><td>3            </td><td>3            </td><td>3            </td><td>4            </td><td>2            </td><td>3            </td><td>1            </td><td>3            </td></tr>\n",
       "\t<tr><td>responden 477</td><td>3            </td><td>3            </td><td>2            </td><td>4            </td><td>3            </td><td>2            </td><td>1            </td><td>3            </td></tr>\n",
       "\t<tr><td>responden 478</td><td>3            </td><td>3            </td><td>3            </td><td>3            </td><td>2            </td><td>4            </td><td>1            </td><td>2            </td></tr>\n",
       "\t<tr><td>responden 479</td><td>4            </td><td>4            </td><td>1            </td><td>3            </td><td>2            </td><td>3            </td><td>1            </td><td>3            </td></tr>\n",
       "\t<tr><td>responden 480</td><td>3            </td><td>4            </td><td>2            </td><td>4            </td><td>2            </td><td>2            </td><td>0            </td><td>2            </td></tr>\n",
       "\t<tr><td>responden 481</td><td>4            </td><td>1            </td><td>1            </td><td>3            </td><td>3            </td><td>3            </td><td>1            </td><td>3            </td></tr>\n",
       "\t<tr><td>responden 482</td><td>4            </td><td>3            </td><td>3            </td><td>4            </td><td>4            </td><td>4            </td><td>0            </td><td>3            </td></tr>\n",
       "\t<tr><td>responden 483</td><td>3            </td><td>3            </td><td>3            </td><td>3            </td><td>3            </td><td>3            </td><td>1            </td><td>2            </td></tr>\n",
       "\t<tr><td>responden 484</td><td>4            </td><td>3            </td><td>3            </td><td>3            </td><td>3            </td><td>3            </td><td>1            </td><td>4            </td></tr>\n",
       "\t<tr><td>responden 485</td><td>3            </td><td>3            </td><td>1            </td><td>4            </td><td>2            </td><td>3            </td><td>2            </td><td>3            </td></tr>\n",
       "\t<tr><td>responden 486</td><td>3            </td><td>1            </td><td>1            </td><td>3            </td><td>2            </td><td>2            </td><td>3            </td><td>4            </td></tr>\n",
       "\t<tr><td>responden 487</td><td>3            </td><td>3            </td><td>2            </td><td>4            </td><td>4            </td><td>4            </td><td>2            </td><td>2            </td></tr>\n",
       "\t<tr><td>responden 488</td><td>3            </td><td>1            </td><td>2            </td><td>4            </td><td>3            </td><td>4            </td><td>1            </td><td>3            </td></tr>\n",
       "\t<tr><td>responden 489</td><td>3            </td><td>1            </td><td>3            </td><td>4            </td><td>1            </td><td>4            </td><td>1            </td><td>4            </td></tr>\n",
       "\t<tr><td>responden 490</td><td>3            </td><td>3            </td><td>2            </td><td>3            </td><td>1            </td><td>3            </td><td>1            </td><td>3            </td></tr>\n",
       "\t<tr><td>responden 491</td><td>4            </td><td>3            </td><td>1            </td><td>3            </td><td>3            </td><td>3            </td><td>1            </td><td>3            </td></tr>\n",
       "\t<tr><td>responden 492</td><td>4            </td><td>3            </td><td>3            </td><td>4            </td><td>1            </td><td>4            </td><td>1            </td><td>2            </td></tr>\n",
       "\t<tr><td>responden 493</td><td>3            </td><td>3            </td><td>1            </td><td>4            </td><td>3            </td><td>4            </td><td>0            </td><td>3            </td></tr>\n",
       "\t<tr><td>responden 494</td><td>3            </td><td>3            </td><td>3            </td><td>4            </td><td>4            </td><td>4            </td><td>3            </td><td>2            </td></tr>\n",
       "\t<tr><td>responden 495</td><td>3            </td><td>1            </td><td>1            </td><td>4            </td><td>2            </td><td>3            </td><td>1            </td><td>3            </td></tr>\n",
       "\t<tr><td>responden 496</td><td>3            </td><td>2            </td><td>2            </td><td>4            </td><td>4            </td><td>3            </td><td>1            </td><td>1            </td></tr>\n",
       "\t<tr><td>responden 497</td><td>4            </td><td>4            </td><td>4            </td><td>4            </td><td>4            </td><td>4            </td><td>0            </td><td>4            </td></tr>\n",
       "\t<tr><td>responden 498</td><td>4            </td><td>4            </td><td>4            </td><td>4            </td><td>1            </td><td>4            </td><td>1            </td><td>4            </td></tr>\n",
       "\t<tr><td>responden 499</td><td>3            </td><td>1            </td><td>1            </td><td>3            </td><td>1            </td><td>3            </td><td>1            </td><td>3            </td></tr>\n",
       "\t<tr><td>responden 500</td><td>3            </td><td>1            </td><td>1            </td><td>2            </td><td>2            </td><td>2            </td><td>2            </td><td>2            </td></tr>\n",
       "</tbody>\n",
       "</table>\n"
      ],
      "text/latex": [
       "\\begin{tabular}{r|lllllllll}\n",
       " X & Q1 & Q2 & Q3 & Q4 & Q5 & Q6 & Q7 & Q8\\\\\n",
       "\\hline\n",
       "\t responden 1  & 4            & 3            & 1            & 4            & 1            & 4            & 0            & 4           \\\\\n",
       "\t responden 2  & 4            & 3            & 3            & 3            & 2            & 1            & 1            & 4           \\\\\n",
       "\t responden 3  & 4            & 3            & 4            & 4            & 2            & 3            & 2            & 3           \\\\\n",
       "\t responden 4  & 4            & 3            & 3            & 4            & 1            & 3            & 2            & 3           \\\\\n",
       "\t responden 5  & 3            & 1            & 1            & 3            & 3            & 3            & 2            & 4           \\\\\n",
       "\t responden 6  & 3            & 2            & 1            & 4            & 3            & 3            & 1            & 3           \\\\\n",
       "\t responden 7  & 3            & 3            & 1            & 3            & 2            & 2            & 3            & 3           \\\\\n",
       "\t responden 8  & 3            & 3            & 1            & 4            & 2            & 4            & 1            & 2           \\\\\n",
       "\t responden 9  & 4            & 3            & 1            & 4            & 2            & 3            & 1            & 3           \\\\\n",
       "\t responden 10 & 4            & 3            & 1            & 3            & 3            & 3            & 3            & 4           \\\\\n",
       "\t responden 11 & 4            & 3            & 3            & 4            & 1            & 4            & 1            & 2           \\\\\n",
       "\t responden 12 & 2            & 3            & 2            & 3            & 1            & 3            & 2            & 3           \\\\\n",
       "\t responden 13 & 4            & 4            & 4            & 3            & 4            & 4            & 0            & 4           \\\\\n",
       "\t responden 14 & 4            & 3            & 2            & 4            & 2            & 3            & 1            & 2           \\\\\n",
       "\t responden 15 & 3            & 3            & 2            & 3            & 2            & 3            & 1            & 2           \\\\\n",
       "\t responden 16 & 3            & 1            & 2            & 4            & 2            & 3            & 1            & 2           \\\\\n",
       "\t responden 17 & 3            & 3            & 1            & 3            & 2            & 3            & 1            & 2           \\\\\n",
       "\t responden 18 & 3            & 1            & 1            & 4            & 1            & 3            & 1            & 4           \\\\\n",
       "\t responden 19 & 3            & 3            & 1            & 4            & 3            & 3            & 1            & 3           \\\\\n",
       "\t responden 20 & 3            & 3            & 3            & 4            & 1            & 3            & 0            & 3           \\\\\n",
       "\t responden 21 & 3            & 1            & 1            & 3            & 1            & 4            & 1            & 2           \\\\\n",
       "\t responden 22 & 3            & 3            & 3            & 3            & 4            & 4            & 1            & 3           \\\\\n",
       "\t responden 23 & 3            & 3            & 1            & 4            & 2            & 3            & 1            & 2           \\\\\n",
       "\t responden 24 & 4            & 3            & 1            & 4            & 2            & 4            & 1            & 2           \\\\\n",
       "\t responden 25 & 3            & 3            & 2            & 4            & 2            & 3            & 1            & 3           \\\\\n",
       "\t responden 26 & 4            & 3            & 3            & 4            & 1            & 3            & 1            & 3           \\\\\n",
       "\t responden 27 & 4            & 3            & 3            & 2            & 2            & 3            & 1            & 3           \\\\\n",
       "\t responden 28 & 4            & 3            & 3            & 4            & 3            & 4            & 2            & 2           \\\\\n",
       "\t responden 29 & 2            & 4            & 3            & 3            & 3            & 4            & 2            & 3           \\\\\n",
       "\t responden 30 & 3            & 3            & 1            & 3            & 2            & 4            & 1            & 2           \\\\\n",
       "\t ... & ... & ... & ... & ... & ... & ... & ... & ...\\\\\n",
       "\t responden 471 & 3             & 3             & 3             & 4             & 2             & 3             & 2             & 3            \\\\\n",
       "\t responden 472 & 4             & 2             & 2             & 3             & 2             & 4             & 0             & 3            \\\\\n",
       "\t responden 473 & 3             & 3             & 2             & 4             & 2             & 2             & 1             & 2            \\\\\n",
       "\t responden 474 & 4             & 3             & 4             & 4             & 4             & 4             & 1             & 3            \\\\\n",
       "\t responden 475 & 3             & 3             & 3             & 4             & 2             & 4             & 1             & 2            \\\\\n",
       "\t responden 476 & 3             & 3             & 3             & 4             & 2             & 3             & 1             & 3            \\\\\n",
       "\t responden 477 & 3             & 3             & 2             & 4             & 3             & 2             & 1             & 3            \\\\\n",
       "\t responden 478 & 3             & 3             & 3             & 3             & 2             & 4             & 1             & 2            \\\\\n",
       "\t responden 479 & 4             & 4             & 1             & 3             & 2             & 3             & 1             & 3            \\\\\n",
       "\t responden 480 & 3             & 4             & 2             & 4             & 2             & 2             & 0             & 2            \\\\\n",
       "\t responden 481 & 4             & 1             & 1             & 3             & 3             & 3             & 1             & 3            \\\\\n",
       "\t responden 482 & 4             & 3             & 3             & 4             & 4             & 4             & 0             & 3            \\\\\n",
       "\t responden 483 & 3             & 3             & 3             & 3             & 3             & 3             & 1             & 2            \\\\\n",
       "\t responden 484 & 4             & 3             & 3             & 3             & 3             & 3             & 1             & 4            \\\\\n",
       "\t responden 485 & 3             & 3             & 1             & 4             & 2             & 3             & 2             & 3            \\\\\n",
       "\t responden 486 & 3             & 1             & 1             & 3             & 2             & 2             & 3             & 4            \\\\\n",
       "\t responden 487 & 3             & 3             & 2             & 4             & 4             & 4             & 2             & 2            \\\\\n",
       "\t responden 488 & 3             & 1             & 2             & 4             & 3             & 4             & 1             & 3            \\\\\n",
       "\t responden 489 & 3             & 1             & 3             & 4             & 1             & 4             & 1             & 4            \\\\\n",
       "\t responden 490 & 3             & 3             & 2             & 3             & 1             & 3             & 1             & 3            \\\\\n",
       "\t responden 491 & 4             & 3             & 1             & 3             & 3             & 3             & 1             & 3            \\\\\n",
       "\t responden 492 & 4             & 3             & 3             & 4             & 1             & 4             & 1             & 2            \\\\\n",
       "\t responden 493 & 3             & 3             & 1             & 4             & 3             & 4             & 0             & 3            \\\\\n",
       "\t responden 494 & 3             & 3             & 3             & 4             & 4             & 4             & 3             & 2            \\\\\n",
       "\t responden 495 & 3             & 1             & 1             & 4             & 2             & 3             & 1             & 3            \\\\\n",
       "\t responden 496 & 3             & 2             & 2             & 4             & 4             & 3             & 1             & 1            \\\\\n",
       "\t responden 497 & 4             & 4             & 4             & 4             & 4             & 4             & 0             & 4            \\\\\n",
       "\t responden 498 & 4             & 4             & 4             & 4             & 1             & 4             & 1             & 4            \\\\\n",
       "\t responden 499 & 3             & 1             & 1             & 3             & 1             & 3             & 1             & 3            \\\\\n",
       "\t responden 500 & 3             & 1             & 1             & 2             & 2             & 2             & 2             & 2            \\\\\n",
       "\\end{tabular}\n"
      ],
      "text/markdown": [
       "\n",
       "| X | Q1 | Q2 | Q3 | Q4 | Q5 | Q6 | Q7 | Q8 |\n",
       "|---|---|---|---|---|---|---|---|---|\n",
       "| responden 1  | 4            | 3            | 1            | 4            | 1            | 4            | 0            | 4            |\n",
       "| responden 2  | 4            | 3            | 3            | 3            | 2            | 1            | 1            | 4            |\n",
       "| responden 3  | 4            | 3            | 4            | 4            | 2            | 3            | 2            | 3            |\n",
       "| responden 4  | 4            | 3            | 3            | 4            | 1            | 3            | 2            | 3            |\n",
       "| responden 5  | 3            | 1            | 1            | 3            | 3            | 3            | 2            | 4            |\n",
       "| responden 6  | 3            | 2            | 1            | 4            | 3            | 3            | 1            | 3            |\n",
       "| responden 7  | 3            | 3            | 1            | 3            | 2            | 2            | 3            | 3            |\n",
       "| responden 8  | 3            | 3            | 1            | 4            | 2            | 4            | 1            | 2            |\n",
       "| responden 9  | 4            | 3            | 1            | 4            | 2            | 3            | 1            | 3            |\n",
       "| responden 10 | 4            | 3            | 1            | 3            | 3            | 3            | 3            | 4            |\n",
       "| responden 11 | 4            | 3            | 3            | 4            | 1            | 4            | 1            | 2            |\n",
       "| responden 12 | 2            | 3            | 2            | 3            | 1            | 3            | 2            | 3            |\n",
       "| responden 13 | 4            | 4            | 4            | 3            | 4            | 4            | 0            | 4            |\n",
       "| responden 14 | 4            | 3            | 2            | 4            | 2            | 3            | 1            | 2            |\n",
       "| responden 15 | 3            | 3            | 2            | 3            | 2            | 3            | 1            | 2            |\n",
       "| responden 16 | 3            | 1            | 2            | 4            | 2            | 3            | 1            | 2            |\n",
       "| responden 17 | 3            | 3            | 1            | 3            | 2            | 3            | 1            | 2            |\n",
       "| responden 18 | 3            | 1            | 1            | 4            | 1            | 3            | 1            | 4            |\n",
       "| responden 19 | 3            | 3            | 1            | 4            | 3            | 3            | 1            | 3            |\n",
       "| responden 20 | 3            | 3            | 3            | 4            | 1            | 3            | 0            | 3            |\n",
       "| responden 21 | 3            | 1            | 1            | 3            | 1            | 4            | 1            | 2            |\n",
       "| responden 22 | 3            | 3            | 3            | 3            | 4            | 4            | 1            | 3            |\n",
       "| responden 23 | 3            | 3            | 1            | 4            | 2            | 3            | 1            | 2            |\n",
       "| responden 24 | 4            | 3            | 1            | 4            | 2            | 4            | 1            | 2            |\n",
       "| responden 25 | 3            | 3            | 2            | 4            | 2            | 3            | 1            | 3            |\n",
       "| responden 26 | 4            | 3            | 3            | 4            | 1            | 3            | 1            | 3            |\n",
       "| responden 27 | 4            | 3            | 3            | 2            | 2            | 3            | 1            | 3            |\n",
       "| responden 28 | 4            | 3            | 3            | 4            | 3            | 4            | 2            | 2            |\n",
       "| responden 29 | 2            | 4            | 3            | 3            | 3            | 4            | 2            | 3            |\n",
       "| responden 30 | 3            | 3            | 1            | 3            | 2            | 4            | 1            | 2            |\n",
       "| ... | ... | ... | ... | ... | ... | ... | ... | ... |\n",
       "| responden 471 | 3             | 3             | 3             | 4             | 2             | 3             | 2             | 3             |\n",
       "| responden 472 | 4             | 2             | 2             | 3             | 2             | 4             | 0             | 3             |\n",
       "| responden 473 | 3             | 3             | 2             | 4             | 2             | 2             | 1             | 2             |\n",
       "| responden 474 | 4             | 3             | 4             | 4             | 4             | 4             | 1             | 3             |\n",
       "| responden 475 | 3             | 3             | 3             | 4             | 2             | 4             | 1             | 2             |\n",
       "| responden 476 | 3             | 3             | 3             | 4             | 2             | 3             | 1             | 3             |\n",
       "| responden 477 | 3             | 3             | 2             | 4             | 3             | 2             | 1             | 3             |\n",
       "| responden 478 | 3             | 3             | 3             | 3             | 2             | 4             | 1             | 2             |\n",
       "| responden 479 | 4             | 4             | 1             | 3             | 2             | 3             | 1             | 3             |\n",
       "| responden 480 | 3             | 4             | 2             | 4             | 2             | 2             | 0             | 2             |\n",
       "| responden 481 | 4             | 1             | 1             | 3             | 3             | 3             | 1             | 3             |\n",
       "| responden 482 | 4             | 3             | 3             | 4             | 4             | 4             | 0             | 3             |\n",
       "| responden 483 | 3             | 3             | 3             | 3             | 3             | 3             | 1             | 2             |\n",
       "| responden 484 | 4             | 3             | 3             | 3             | 3             | 3             | 1             | 4             |\n",
       "| responden 485 | 3             | 3             | 1             | 4             | 2             | 3             | 2             | 3             |\n",
       "| responden 486 | 3             | 1             | 1             | 3             | 2             | 2             | 3             | 4             |\n",
       "| responden 487 | 3             | 3             | 2             | 4             | 4             | 4             | 2             | 2             |\n",
       "| responden 488 | 3             | 1             | 2             | 4             | 3             | 4             | 1             | 3             |\n",
       "| responden 489 | 3             | 1             | 3             | 4             | 1             | 4             | 1             | 4             |\n",
       "| responden 490 | 3             | 3             | 2             | 3             | 1             | 3             | 1             | 3             |\n",
       "| responden 491 | 4             | 3             | 1             | 3             | 3             | 3             | 1             | 3             |\n",
       "| responden 492 | 4             | 3             | 3             | 4             | 1             | 4             | 1             | 2             |\n",
       "| responden 493 | 3             | 3             | 1             | 4             | 3             | 4             | 0             | 3             |\n",
       "| responden 494 | 3             | 3             | 3             | 4             | 4             | 4             | 3             | 2             |\n",
       "| responden 495 | 3             | 1             | 1             | 4             | 2             | 3             | 1             | 3             |\n",
       "| responden 496 | 3             | 2             | 2             | 4             | 4             | 3             | 1             | 1             |\n",
       "| responden 497 | 4             | 4             | 4             | 4             | 4             | 4             | 0             | 4             |\n",
       "| responden 498 | 4             | 4             | 4             | 4             | 1             | 4             | 1             | 4             |\n",
       "| responden 499 | 3             | 1             | 1             | 3             | 1             | 3             | 1             | 3             |\n",
       "| responden 500 | 3             | 1             | 1             | 2             | 2             | 2             | 2             | 2             |\n",
       "\n"
      ],
      "text/plain": [
       "    X             Q1  Q2  Q3  Q4  Q5  Q6  Q7  Q8 \n",
       "1   responden 1   4   3   1   4   1   4   0   4  \n",
       "2   responden 2   4   3   3   3   2   1   1   4  \n",
       "3   responden 3   4   3   4   4   2   3   2   3  \n",
       "4   responden 4   4   3   3   4   1   3   2   3  \n",
       "5   responden 5   3   1   1   3   3   3   2   4  \n",
       "6   responden 6   3   2   1   4   3   3   1   3  \n",
       "7   responden 7   3   3   1   3   2   2   3   3  \n",
       "8   responden 8   3   3   1   4   2   4   1   2  \n",
       "9   responden 9   4   3   1   4   2   3   1   3  \n",
       "10  responden 10  4   3   1   3   3   3   3   4  \n",
       "11  responden 11  4   3   3   4   1   4   1   2  \n",
       "12  responden 12  2   3   2   3   1   3   2   3  \n",
       "13  responden 13  4   4   4   3   4   4   0   4  \n",
       "14  responden 14  4   3   2   4   2   3   1   2  \n",
       "15  responden 15  3   3   2   3   2   3   1   2  \n",
       "16  responden 16  3   1   2   4   2   3   1   2  \n",
       "17  responden 17  3   3   1   3   2   3   1   2  \n",
       "18  responden 18  3   1   1   4   1   3   1   4  \n",
       "19  responden 19  3   3   1   4   3   3   1   3  \n",
       "20  responden 20  3   3   3   4   1   3   0   3  \n",
       "21  responden 21  3   1   1   3   1   4   1   2  \n",
       "22  responden 22  3   3   3   3   4   4   1   3  \n",
       "23  responden 23  3   3   1   4   2   3   1   2  \n",
       "24  responden 24  4   3   1   4   2   4   1   2  \n",
       "25  responden 25  3   3   2   4   2   3   1   3  \n",
       "26  responden 26  4   3   3   4   1   3   1   3  \n",
       "27  responden 27  4   3   3   2   2   3   1   3  \n",
       "28  responden 28  4   3   3   4   3   4   2   2  \n",
       "29  responden 29  2   4   3   3   3   4   2   3  \n",
       "30  responden 30  3   3   1   3   2   4   1   2  \n",
       "... ...           ... ... ... ... ... ... ... ...\n",
       "471 responden 471 3   3   3   4   2   3   2   3  \n",
       "472 responden 472 4   2   2   3   2   4   0   3  \n",
       "473 responden 473 3   3   2   4   2   2   1   2  \n",
       "474 responden 474 4   3   4   4   4   4   1   3  \n",
       "475 responden 475 3   3   3   4   2   4   1   2  \n",
       "476 responden 476 3   3   3   4   2   3   1   3  \n",
       "477 responden 477 3   3   2   4   3   2   1   3  \n",
       "478 responden 478 3   3   3   3   2   4   1   2  \n",
       "479 responden 479 4   4   1   3   2   3   1   3  \n",
       "480 responden 480 3   4   2   4   2   2   0   2  \n",
       "481 responden 481 4   1   1   3   3   3   1   3  \n",
       "482 responden 482 4   3   3   4   4   4   0   3  \n",
       "483 responden 483 3   3   3   3   3   3   1   2  \n",
       "484 responden 484 4   3   3   3   3   3   1   4  \n",
       "485 responden 485 3   3   1   4   2   3   2   3  \n",
       "486 responden 486 3   1   1   3   2   2   3   4  \n",
       "487 responden 487 3   3   2   4   4   4   2   2  \n",
       "488 responden 488 3   1   2   4   3   4   1   3  \n",
       "489 responden 489 3   1   3   4   1   4   1   4  \n",
       "490 responden 490 3   3   2   3   1   3   1   3  \n",
       "491 responden 491 4   3   1   3   3   3   1   3  \n",
       "492 responden 492 4   3   3   4   1   4   1   2  \n",
       "493 responden 493 3   3   1   4   3   4   0   3  \n",
       "494 responden 494 3   3   3   4   4   4   3   2  \n",
       "495 responden 495 3   1   1   4   2   3   1   3  \n",
       "496 responden 496 3   2   2   4   4   3   1   1  \n",
       "497 responden 497 4   4   4   4   4   4   0   4  \n",
       "498 responden 498 4   4   4   4   1   4   1   4  \n",
       "499 responden 499 3   1   1   3   1   3   1   3  \n",
       "500 responden 500 3   1   1   2   2   2   2   2  "
      ]
     },
     "metadata": {},
     "output_type": "display_data"
    }
   ],
   "source": [
    "mydata"
   ]
  },
  {
   "cell_type": "code",
   "execution_count": 29,
   "metadata": {},
   "outputs": [
    {
     "name": "stderr",
     "output_type": "stream",
     "text": [
      "The following objects are masked _by_ .GlobalEnv:\n",
      "\n",
      "    Q1, Q2, Q3, Q4, Q5, Q6, Q7, Q8\n",
      "\n"
     ]
    }
   ],
   "source": [
    "attach(mydata)"
   ]
  },
  {
   "cell_type": "code",
   "execution_count": 30,
   "metadata": {},
   "outputs": [],
   "source": [
    "# Define Variables\n",
    "x <- cbind(Q1,Q2,Q3,Q4,Q5,Q6,Q7,Q8)"
   ]
  },
  {
   "cell_type": "code",
   "execution_count": 31,
   "metadata": {},
   "outputs": [
    {
     "data": {
      "text/plain": [
       "       Q1              Q2             Q3              Q4              Q5       \n",
       " Min.   :1.000   Min.   :0.00   Min.   :0.000   Min.   :1.000   Min.   :0.000  \n",
       " 1st Qu.:3.000   1st Qu.:2.00   1st Qu.:1.000   1st Qu.:3.000   1st Qu.:2.000  \n",
       " Median :3.000   Median :3.00   Median :2.000   Median :4.000   Median :2.000  \n",
       " Mean   :3.384   Mean   :2.56   Mean   :2.258   Mean   :3.558   Mean   :2.404  \n",
       " 3rd Qu.:4.000   3rd Qu.:3.00   3rd Qu.:3.000   3rd Qu.:4.000   3rd Qu.:3.000  \n",
       " Max.   :4.000   Max.   :4.00   Max.   :4.000   Max.   :4.000   Max.   :4.000  \n",
       "       Q6              Q7              Q8       \n",
       " Min.   :0.000   Min.   :0.000   Min.   :0.000  \n",
       " 1st Qu.:3.000   1st Qu.:1.000   1st Qu.:2.000  \n",
       " Median :3.000   Median :1.000   Median :3.000  \n",
       " Mean   :3.228   Mean   :1.284   Mean   :2.782  \n",
       " 3rd Qu.:4.000   3rd Qu.:2.000   3rd Qu.:3.000  \n",
       " Max.   :4.000   Max.   :4.000   Max.   :4.000  "
      ]
     },
     "metadata": {},
     "output_type": "display_data"
    },
    {
     "data": {
      "text/html": [
       "<table>\n",
       "<thead><tr><th></th><th scope=col>Q1</th><th scope=col>Q2</th><th scope=col>Q3</th><th scope=col>Q4</th><th scope=col>Q5</th><th scope=col>Q6</th><th scope=col>Q7</th><th scope=col>Q8</th></tr></thead>\n",
       "<tbody>\n",
       "\t<tr><th scope=row>Q1</th><td> 1.00000000</td><td> 0.25190235</td><td> 0.24031507</td><td> 0.21607073</td><td> 0.08920991</td><td> 0.23230114</td><td>-0.09195319</td><td>0.25405902 </td></tr>\n",
       "\t<tr><th scope=row>Q2</th><td> 0.25190235</td><td> 1.00000000</td><td> 0.37916958</td><td> 0.07008682</td><td> 0.09069914</td><td> 0.12512067</td><td>-0.02560893</td><td>0.08851456 </td></tr>\n",
       "\t<tr><th scope=row>Q3</th><td> 0.24031507</td><td> 0.37916958</td><td> 1.00000000</td><td> 0.17942006</td><td> 0.10306627</td><td> 0.03700921</td><td>-0.00341274</td><td>0.16516443 </td></tr>\n",
       "\t<tr><th scope=row>Q4</th><td> 0.21607073</td><td> 0.07008682</td><td> 0.17942006</td><td> 1.00000000</td><td> 0.08720523</td><td> 0.33356367</td><td>-0.08577996</td><td>0.17675232 </td></tr>\n",
       "\t<tr><th scope=row>Q5</th><td> 0.08920991</td><td> 0.09069914</td><td> 0.10306627</td><td> 0.08720523</td><td> 1.00000000</td><td> 0.12155292</td><td>-0.06060150</td><td>0.10104336 </td></tr>\n",
       "\t<tr><th scope=row>Q6</th><td> 0.23230114</td><td> 0.12512067</td><td> 0.03700921</td><td> 0.33356367</td><td> 0.12155292</td><td> 1.00000000</td><td>-0.24048047</td><td>0.16456902 </td></tr>\n",
       "\t<tr><th scope=row>Q7</th><td>-0.09195319</td><td>-0.02560893</td><td>-0.00341274</td><td>-0.08577996</td><td>-0.06060150</td><td>-0.24048047</td><td> 1.00000000</td><td>0.01693539 </td></tr>\n",
       "\t<tr><th scope=row>Q8</th><td> 0.25405902</td><td> 0.08851456</td><td> 0.16516443</td><td> 0.17675232</td><td> 0.10104336</td><td> 0.16456902</td><td> 0.01693539</td><td>1.00000000 </td></tr>\n",
       "</tbody>\n",
       "</table>\n"
      ],
      "text/latex": [
       "\\begin{tabular}{r|llllllll}\n",
       "  & Q1 & Q2 & Q3 & Q4 & Q5 & Q6 & Q7 & Q8\\\\\n",
       "\\hline\n",
       "\tQ1 &  1.00000000 &  0.25190235 &  0.24031507 &  0.21607073 &  0.08920991 &  0.23230114 & -0.09195319 & 0.25405902 \\\\\n",
       "\tQ2 &  0.25190235 &  1.00000000 &  0.37916958 &  0.07008682 &  0.09069914 &  0.12512067 & -0.02560893 & 0.08851456 \\\\\n",
       "\tQ3 &  0.24031507 &  0.37916958 &  1.00000000 &  0.17942006 &  0.10306627 &  0.03700921 & -0.00341274 & 0.16516443 \\\\\n",
       "\tQ4 &  0.21607073 &  0.07008682 &  0.17942006 &  1.00000000 &  0.08720523 &  0.33356367 & -0.08577996 & 0.17675232 \\\\\n",
       "\tQ5 &  0.08920991 &  0.09069914 &  0.10306627 &  0.08720523 &  1.00000000 &  0.12155292 & -0.06060150 & 0.10104336 \\\\\n",
       "\tQ6 &  0.23230114 &  0.12512067 &  0.03700921 &  0.33356367 &  0.12155292 &  1.00000000 & -0.24048047 & 0.16456902 \\\\\n",
       "\tQ7 & -0.09195319 & -0.02560893 & -0.00341274 & -0.08577996 & -0.06060150 & -0.24048047 &  1.00000000 & 0.01693539 \\\\\n",
       "\tQ8 &  0.25405902 &  0.08851456 &  0.16516443 &  0.17675232 &  0.10104336 &  0.16456902 &  0.01693539 & 1.00000000 \\\\\n",
       "\\end{tabular}\n"
      ],
      "text/markdown": [
       "\n",
       "| <!--/--> | Q1 | Q2 | Q3 | Q4 | Q5 | Q6 | Q7 | Q8 |\n",
       "|---|---|---|---|---|---|---|---|---|\n",
       "| Q1 |  1.00000000 |  0.25190235 |  0.24031507 |  0.21607073 |  0.08920991 |  0.23230114 | -0.09195319 | 0.25405902  |\n",
       "| Q2 |  0.25190235 |  1.00000000 |  0.37916958 |  0.07008682 |  0.09069914 |  0.12512067 | -0.02560893 | 0.08851456  |\n",
       "| Q3 |  0.24031507 |  0.37916958 |  1.00000000 |  0.17942006 |  0.10306627 |  0.03700921 | -0.00341274 | 0.16516443  |\n",
       "| Q4 |  0.21607073 |  0.07008682 |  0.17942006 |  1.00000000 |  0.08720523 |  0.33356367 | -0.08577996 | 0.17675232  |\n",
       "| Q5 |  0.08920991 |  0.09069914 |  0.10306627 |  0.08720523 |  1.00000000 |  0.12155292 | -0.06060150 | 0.10104336  |\n",
       "| Q6 |  0.23230114 |  0.12512067 |  0.03700921 |  0.33356367 |  0.12155292 |  1.00000000 | -0.24048047 | 0.16456902  |\n",
       "| Q7 | -0.09195319 | -0.02560893 | -0.00341274 | -0.08577996 | -0.06060150 | -0.24048047 |  1.00000000 | 0.01693539  |\n",
       "| Q8 |  0.25405902 |  0.08851456 |  0.16516443 |  0.17675232 |  0.10104336 |  0.16456902 |  0.01693539 | 1.00000000  |\n",
       "\n"
      ],
      "text/plain": [
       "   Q1          Q2          Q3          Q4          Q5          Q6         \n",
       "Q1  1.00000000  0.25190235  0.24031507  0.21607073  0.08920991  0.23230114\n",
       "Q2  0.25190235  1.00000000  0.37916958  0.07008682  0.09069914  0.12512067\n",
       "Q3  0.24031507  0.37916958  1.00000000  0.17942006  0.10306627  0.03700921\n",
       "Q4  0.21607073  0.07008682  0.17942006  1.00000000  0.08720523  0.33356367\n",
       "Q5  0.08920991  0.09069914  0.10306627  0.08720523  1.00000000  0.12155292\n",
       "Q6  0.23230114  0.12512067  0.03700921  0.33356367  0.12155292  1.00000000\n",
       "Q7 -0.09195319 -0.02560893 -0.00341274 -0.08577996 -0.06060150 -0.24048047\n",
       "Q8  0.25405902  0.08851456  0.16516443  0.17675232  0.10104336  0.16456902\n",
       "   Q7          Q8        \n",
       "Q1 -0.09195319 0.25405902\n",
       "Q2 -0.02560893 0.08851456\n",
       "Q3 -0.00341274 0.16516443\n",
       "Q4 -0.08577996 0.17675232\n",
       "Q5 -0.06060150 0.10104336\n",
       "Q6 -0.24048047 0.16456902\n",
       "Q7  1.00000000 0.01693539\n",
       "Q8  0.01693539 1.00000000"
      ]
     },
     "metadata": {},
     "output_type": "display_data"
    }
   ],
   "source": [
    "# Descriptive statistics\n",
    "summary(x)\n",
    "cor(x)"
   ]
  },
  {
   "cell_type": "code",
   "execution_count": 32,
   "metadata": {},
   "outputs": [],
   "source": [
    "# Principal Component Analysis\n",
    "pcal <-princomp(x, score=TRUE, cor=TRUE)"
   ]
  },
  {
   "cell_type": "code",
   "execution_count": 33,
   "metadata": {},
   "outputs": [
    {
     "data": {
      "text/plain": [
       "\n",
       "Loadings:\n",
       "   Comp.1 Comp.2 Comp.3 Comp.4 Comp.5 Comp.6 Comp.7 Comp.8\n",
       "Q1  0.454                0.177  0.359  0.417  0.668       \n",
       "Q2  0.367  0.440 -0.411  0.100         0.293 -0.413 -0.485\n",
       "Q3  0.387  0.483 -0.179        -0.194 -0.494         0.543\n",
       "Q4  0.393 -0.272  0.274  0.146 -0.646 -0.215  0.195 -0.416\n",
       "Q5  0.225        -0.109 -0.955                0.116       \n",
       "Q6  0.395 -0.485               -0.124  0.382 -0.437  0.499\n",
       "Q7 -0.177  0.504  0.580        -0.371  0.448         0.164\n",
       "Q8  0.342         0.606         0.508 -0.315 -0.360 -0.136\n",
       "\n",
       "               Comp.1 Comp.2 Comp.3 Comp.4 Comp.5 Comp.6 Comp.7 Comp.8\n",
       "SS loadings     1.000  1.000  1.000  1.000  1.000  1.000  1.000  1.000\n",
       "Proportion Var  0.125  0.125  0.125  0.125  0.125  0.125  0.125  0.125\n",
       "Cumulative Var  0.125  0.250  0.375  0.500  0.625  0.750  0.875  1.000"
      ]
     },
     "metadata": {},
     "output_type": "display_data"
    }
   ],
   "source": [
    "# Loading of Principal Components\n",
    "loadings(pcal)"
   ]
  },
  {
   "cell_type": "code",
   "execution_count": 34,
   "metadata": {},
   "outputs": [
    {
     "data": {
      "image/png": "[encoded data removed]",
      "text/plain": [
       "Plot with title \"pcal\""
      ]
     },
     "metadata": {},
     "output_type": "display_data"
    },
    {
     "data": {
      "image/png": "[encoded data removed]",
      "text/plain": [
       "Plot with title \"scree plot\""
      ]
     },
     "metadata": {},
     "output_type": "display_data"
    }
   ],
   "source": [
    "# Scree plot of eigenvalues\n",
    "plot(pcal)\n",
    "screeplot(pcal, type=\"line\", main=\"scree plot\")"
   ]
  },
  {
   "cell_type": "code",
   "execution_count": 35,
   "metadata": {},
   "outputs": [
    {
     "data": {
      "image/png": "[encoded data removed]",
      "text/plain": [
       "plot without title"
      ]
     },
     "metadata": {},
     "output_type": "display_data"
    }
   ],
   "source": [
    "# Biplot of score variables\n",
    "biplot(pcal)"
   ]
  },
  {
   "cell_type": "code",
   "execution_count": 36,
   "metadata": {},
   "outputs": [
    {
     "data": {
      "text/html": [
       "<table>\n",
       "<thead><tr><th scope=col>Comp.1</th><th scope=col>Comp.2</th><th scope=col>Comp.3</th><th scope=col>Comp.4</th><th scope=col>Comp.5</th><th scope=col>Comp.6</th><th scope=col>Comp.7</th><th scope=col>Comp.8</th></tr></thead>\n",
       "<tbody>\n",
       "\t<tr><td> 1.3164968  </td><td>-1.5496937  </td><td> 0.4934640  </td><td> 1.8014695  </td><td> 1.4166583  </td><td> 0.1328183  </td><td>-0.491877839</td><td>-0.9862144  </td></tr>\n",
       "\t<tr><td>-0.1304882  </td><td> 2.1984957  </td><td> 0.3437520  </td><td> 0.2082530  </td><td> 2.0857645  </td><td>-1.3333458  </td><td> 1.092697936</td><td>-1.1512575  </td></tr>\n",
       "\t<tr><td> 1.2602780  </td><td> 1.4432294  </td><td> 0.5036532  </td><td> 0.7153868  </td><td>-0.5019351  </td><td>-0.2165505  </td><td> 0.683416280</td><td> 0.3403601  </td></tr>\n",
       "\t<tr><td> 0.6676220  </td><td> 1.0590221  </td><td> 0.7823462  </td><td> 1.6928504  </td><td>-0.2527286  </td><td> 0.1597167  </td><td> 0.490948639</td><td>-0.1139698  </td></tr>\n",
       "\t<tr><td>-1.2965491  </td><td>-0.4701867  </td><td> 1.9048447  </td><td>-1.3191713  </td><td> 1.0534077  </td><td>-0.1749519  </td><td>-0.408844627</td><td> 0.2861336  </td></tr>\n",
       "\t<tr><td>-0.4979948  </td><td>-1.0855254  </td><td> 0.4929013  </td><td>-0.7678592  </td><td>-0.2043197  </td><td>-0.3387277  </td><td>-0.003910748</td><td>-0.9122372  </td></tr>\n",
       "\t<tr><td>-1.9085080  </td><td> 1.6656376  </td><td> 1.0962493  </td><td>-0.1859403  </td><td> 0.1846808  </td><td> 0.7761308  </td><td>-0.472808067</td><td>-0.9984574  </td></tr>\n",
       "\t<tr><td>-0.2558132  </td><td>-1.2690647  </td><td>-0.5911046  </td><td> 0.5844237  </td><td>-0.9448423  </td><td> 0.7898500  </td><td>-0.695461839</td><td>-0.5641144  </td></tr>\n",
       "</tbody>\n",
       "</table>\n"
      ],
      "text/latex": [
       "\\begin{tabular}{llllllll}\n",
       " Comp.1 & Comp.2 & Comp.3 & Comp.4 & Comp.5 & Comp.6 & Comp.7 & Comp.8\\\\\n",
       "\\hline\n",
       "\t  1.3164968   & -1.5496937   &  0.4934640   &  1.8014695   &  1.4166583   &  0.1328183   & -0.491877839 & -0.9862144  \\\\\n",
       "\t -0.1304882   &  2.1984957   &  0.3437520   &  0.2082530   &  2.0857645   & -1.3333458   &  1.092697936 & -1.1512575  \\\\\n",
       "\t  1.2602780   &  1.4432294   &  0.5036532   &  0.7153868   & -0.5019351   & -0.2165505   &  0.683416280 &  0.3403601  \\\\\n",
       "\t  0.6676220   &  1.0590221   &  0.7823462   &  1.6928504   & -0.2527286   &  0.1597167   &  0.490948639 & -0.1139698  \\\\\n",
       "\t -1.2965491   & -0.4701867   &  1.9048447   & -1.3191713   &  1.0534077   & -0.1749519   & -0.408844627 &  0.2861336  \\\\\n",
       "\t -0.4979948   & -1.0855254   &  0.4929013   & -0.7678592   & -0.2043197   & -0.3387277   & -0.003910748 & -0.9122372  \\\\\n",
       "\t -1.9085080   &  1.6656376   &  1.0962493   & -0.1859403   &  0.1846808   &  0.7761308   & -0.472808067 & -0.9984574  \\\\\n",
       "\t -0.2558132   & -1.2690647   & -0.5911046   &  0.5844237   & -0.9448423   &  0.7898500   & -0.695461839 & -0.5641144  \\\\\n",
       "\\end{tabular}\n"
      ],
      "text/markdown": [
       "\n",
       "| Comp.1 | Comp.2 | Comp.3 | Comp.4 | Comp.5 | Comp.6 | Comp.7 | Comp.8 |\n",
       "|---|---|---|---|---|---|---|---|\n",
       "|  1.3164968   | -1.5496937   |  0.4934640   |  1.8014695   |  1.4166583   |  0.1328183   | -0.491877839 | -0.9862144   |\n",
       "| -0.1304882   |  2.1984957   |  0.3437520   |  0.2082530   |  2.0857645   | -1.3333458   |  1.092697936 | -1.1512575   |\n",
       "|  1.2602780   |  1.4432294   |  0.5036532   |  0.7153868   | -0.5019351   | -0.2165505   |  0.683416280 |  0.3403601   |\n",
       "|  0.6676220   |  1.0590221   |  0.7823462   |  1.6928504   | -0.2527286   |  0.1597167   |  0.490948639 | -0.1139698   |\n",
       "| -1.2965491   | -0.4701867   |  1.9048447   | -1.3191713   |  1.0534077   | -0.1749519   | -0.408844627 |  0.2861336   |\n",
       "| -0.4979948   | -1.0855254   |  0.4929013   | -0.7678592   | -0.2043197   | -0.3387277   | -0.003910748 | -0.9122372   |\n",
       "| -1.9085080   |  1.6656376   |  1.0962493   | -0.1859403   |  0.1846808   |  0.7761308   | -0.472808067 | -0.9984574   |\n",
       "| -0.2558132   | -1.2690647   | -0.5911046   |  0.5844237   | -0.9448423   |  0.7898500   | -0.695461839 | -0.5641144   |\n",
       "\n"
      ],
      "text/plain": [
       "     Comp.1     Comp.2     Comp.3     Comp.4     Comp.5     Comp.6    \n",
       "[1,]  1.3164968 -1.5496937  0.4934640  1.8014695  1.4166583  0.1328183\n",
       "[2,] -0.1304882  2.1984957  0.3437520  0.2082530  2.0857645 -1.3333458\n",
       "[3,]  1.2602780  1.4432294  0.5036532  0.7153868 -0.5019351 -0.2165505\n",
       "[4,]  0.6676220  1.0590221  0.7823462  1.6928504 -0.2527286  0.1597167\n",
       "[5,] -1.2965491 -0.4701867  1.9048447 -1.3191713  1.0534077 -0.1749519\n",
       "[6,] -0.4979948 -1.0855254  0.4929013 -0.7678592 -0.2043197 -0.3387277\n",
       "[7,] -1.9085080  1.6656376  1.0962493 -0.1859403  0.1846808  0.7761308\n",
       "[8,] -0.2558132 -1.2690647 -0.5911046  0.5844237 -0.9448423  0.7898500\n",
       "     Comp.7       Comp.8    \n",
       "[1,] -0.491877839 -0.9862144\n",
       "[2,]  1.092697936 -1.1512575\n",
       "[3,]  0.683416280  0.3403601\n",
       "[4,]  0.490948639 -0.1139698\n",
       "[5,] -0.408844627  0.2861336\n",
       "[6,] -0.003910748 -0.9122372\n",
       "[7,] -0.472808067 -0.9984574\n",
       "[8,] -0.695461839 -0.5641144"
      ]
     },
     "metadata": {},
     "output_type": "display_data"
    }
   ],
   "source": [
    "# Scores of the components\n",
    "pcal$scores[1:8,]"
   ]
  },
  {
   "cell_type": "code",
   "execution_count": null,
   "metadata": {},
   "outputs": [],
   "source": []
  }
 ],
 "metadata": {
  "kernelspec": {
   "display_name": "R",
   "language": "R",
   "name": "ir"
  },
  "language_info": {
   "codemirror_mode": "r",
   "file_extension": ".r",
   "mimetype": "text/x-r-source",
   "name": "R",
   "pygments_lexer": "r",
   "version": "3.6.1"
  }
 },
 "nbformat": 4,
 "nbformat_minor": 4
}
